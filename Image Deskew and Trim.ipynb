{
 "cells": [
  {
   "cell_type": "code",
   "execution_count": 2,
   "id": "0495c78c",
   "metadata": {},
   "outputs": [],
   "source": [
    "import os\n",
    "from tqdm import tqdm\n",
    "from wand.image import Image\n",
    "from wand.color import Color\n",
    "from wand.display import display\n",
    "\n",
    "def deskew_image(inpath, outpath):\n",
    "    with Image(filename=inpath) as img:\n",
    "        img.deskew(0.4*img.quantum_range)\n",
    "        img.save(filename=outpath)\n",
    "\n",
    "def find_images(folder_path, extensions=['.jpg', '.png', '.jpeg', '.gif', '.bmp']):\n",
    "    image_paths = []\n",
    "    for root, dirs, files in os.walk(folder_path):\n",
    "        for file in files:\n",
    "            if any(file.lower().endswith(ext) for ext in extensions):\n",
    "                image_paths.append(os.path.join(root, file))\n",
    "    return image_paths\n",
    "\n"
   ]
  },
  {
   "cell_type": "code",
   "execution_count": 3,
   "id": "395bcd8a",
   "metadata": {},
   "outputs": [],
   "source": [
    "def list_all_files(folder_path):\n",
    "    all_files = []\n",
    "    for root, dirs, files in os.walk(folder_path):\n",
    "        for file in files:\n",
    "            all_files.append(os.path.join(root, file))\n",
    "    return all_files"
   ]
  },
  {
   "cell_type": "code",
   "execution_count": 4,
   "id": "71a782a8",
   "metadata": {},
   "outputs": [
    {
     "data": {
      "text/plain": [
       "(2859, 2862)"
      ]
     },
     "execution_count": 4,
     "metadata": {},
     "output_type": "execute_result"
    }
   ],
   "source": [
    "folder_path = \"/Users/xieewenz/Downloads/Images 2\"\n",
    "len( find_images(folder_path)), len(list_all_files(folder_path))"
   ]
  },
  {
   "cell_type": "code",
   "execution_count": null,
   "id": "37771cf3",
   "metadata": {},
   "outputs": [],
   "source": [
    "folder_path = \"/Users/xieewenz/Downloads/Images 2\"\n",
    "image_list = find_images(folder_path)\n",
    "for i, im in enumerate(tqdm(image_list)):\n",
    "    deskew_image(im, f\"deskewed2/{i:05d}.jpg\")"
   ]
  },
  {
   "cell_type": "code",
   "execution_count": null,
   "id": "2dc00623",
   "metadata": {},
   "outputs": [],
   "source": [
    "\n",
    "def trim_image(original_img, original_width, original_height, color, fuzz, ):\n",
    "    with original_img.clone() as trimmed_img:\n",
    "        trimmed_img.border(color, 3, 3)\n",
    "        trimmed_img.trim(color=color, fuzz=fuzz, percent_background=0.0, reset_coords=True)\n",
    "\n",
    "        new_width, new_height = trimmed_img.width, trimmed_img.height\n",
    "        width_cut_percentage = (original_width - new_width) / original_width * 100\n",
    "        height_cut_percentage = (original_height - new_height) / original_height * 100\n",
    "\n",
    "        if width_cut_percentage > 10 or height_cut_percentage > 15:\n",
    "            trimmed_img.close() \n",
    "            new_img = original_img.clone() \n",
    "            reverted_trim = True\n",
    "        else:\n",
    "            new_img = trimmed_img.clone()  \n",
    "            reverted_trim = False\n",
    "    return new_img, reverted_trim\n",
    "\n",
    "\n",
    "def edgecut(inpath,outpath):\n",
    "    with Image(filename=inpath) as img:\n",
    "        original_width, original_height = img.width, img.height\n",
    "        \n",
    "        \n",
    "        # first clone the image and trim the white borders, if it trims too much, revert and go to next step\n",
    "        white_trimmed, reverted_trim = trim_image(img, original_width, original_height, color=Color(\"white\"), fuzz=0.30*img.quantum_range)\n",
    "        if reverted_trim:\n",
    "            print(f\"reverted big fuzz white trim: {inpath}\")\n",
    "            white_trimmed, reverted_small_trim = trim_image(img, original_width, original_height, color=Color(\"white\"), fuzz=30)\n",
    "            if reverted_small_trim: \n",
    "                print(f\"reverted small fuzz white trim: {inpath}\")\n",
    "                \n",
    "        black_white_trimmed, reverted_trim = trim_image(white_trimmed, original_width, original_height, color=Color(\"black\"), fuzz=0.30*white_trimmed.quantum_range)\n",
    "        if reverted_trim:\n",
    "            print(f\"reverted big fuzz black trim: {inpath}\")\n",
    "            black_white_trimmed, reverted_small_trim = trim_image(white_trimmed, original_width, original_height, color=Color(\"black\"), fuzz=30)\n",
    "            if reverted_small_trim: \n",
    "                print(f\"reverted small fuzz black trim: {inpath}\")\n",
    "\n",
    "        black_white_trimmed.save(filename=outpath)\n",
    "    \n",
    "\n",
    "folder_path = \"deskewed2\"\n",
    "image_list = find_images(folder_path)\n",
    "for i, im in enumerate(tqdm(sorted(image_list))):\n",
    "    edgecut(im, f\"edgecut4/{i:05d}.jpg\")\n",
    "\n"
   ]
  },
  {
   "cell_type": "code",
   "execution_count": null,
   "id": "0a40a486",
   "metadata": {},
   "outputs": [],
   "source": [
    "from wand.image import Image\n",
    "\n",
    "def match_and_crop_image(image_path, reference_path, output_dir, crop_size=(70,70), similarity_threshold=0.05, dissimilarity_threshold=0.618, bad_match_dir=\"bad_match\"):\n",
    "    with Image(filename=image_path) as orig_img:\n",
    "        # Crop the image to the top-left 70x70\n",
    "        with orig_img.clone() as img:\n",
    "            img.crop(0, 0, width=crop_size[0], height=crop_size[1])\n",
    "            with Image(filename=reference_path) as reference:\n",
    "                location, diff = img.similarity(reference, similarity_threshold)\n",
    "                if diff > dissimilarity_threshold:\n",
    "                    print('Images too dissimilar to match')\n",
    "                    orig_img.save(filename=f\"{bad_match_dir}/{os.path.basename(image_path)}\")\n",
    "                elif diff <= similarity_threshold:\n",
    "                    print('First match @ {left}x{top}'.format(**location))\n",
    "                    # Crop the image from the top left x and y where form.jpg was matched\n",
    "                    orig_img.crop(location['left'], location['top'], width=orig_img.width, height=orig_img.height)\n",
    "                    orig_img.save(filename=f\"{output_dir}/{os.path.basename(image_path)}\")\n",
    "                else:\n",
    "                    print('Best match @ {left}x{top}'.format(**location))\n",
    "                    # Crop the image from the top left x and y where form.jpg was matched\n",
    "                    orig_img.crop(location['left'], location['top'], width=orig_img.width, height=orig_img.height)\n",
    "                    orig_img.save(filename=f\"{output_dir}/{os.path.basename(image_path)}\")\n",
    "\n",
    "image_dir = \"edgecut4\"\n",
    "output_dir = \"matched\"\n",
    "reference_path = \"form.jpg\"\n",
    "image_list = find_images(image_dir)\n",
    "for num, image_path in enumerate(tqdm(sorted(image_list))):\n",
    "    match_and_crop_image(image_path, reference_path, output_dir)\n"
   ]
  },
  {
   "cell_type": "code",
   "execution_count": null,
   "id": "af7f5945",
   "metadata": {},
   "outputs": [],
   "source": [
    "from tqdm import tqdm\n",
    "\n",
    "def resize_images(image_dir, output_dir):\n",
    "    max_width = 0\n",
    "    max_height = 0\n",
    "    image_list = find_images(image_dir)\n",
    "    for image_name in tqdm(sorted(image_list)):\n",
    "        with PIL.Image.open(image_name) as img:\n",
    "            width, height = img.size\n",
    "            max_width = max(max_width, width)\n",
    "            max_height = max(max_height, height)\n",
    "\n",
    "    os.makedirs(output_dir, exist_ok=True)\n",
    "    for image_name in tqdm(sorted(image_list)):\n",
    "        with PIL.Image.open(image_name) as img:\n",
    "            new_img = img.resize((max_width, max_height))\n",
    "            new_img.save(f\"{output_dir}/{os.path.basename(image_name)}\")\n",
    "\n",
    "resize_images(\"matched\", \"resized_images\")\n",
    "\n",
    "\n",
    "\n"
   ]
  },
  {
   "cell_type": "code",
   "execution_count": 3,
   "id": "9362aa0d",
   "metadata": {},
   "outputs": [],
   "source": [
    "import random\n",
    "import shutil\n",
    "\n",
    "source_dir = \"matched\"\n",
    "target_dir = \"sampleimgs\"\n",
    "file_names = os.listdir(source_dir)\n",
    "\n",
    "os.makedirs(target_dir, exist_ok=True)\n",
    "\n",
    "for file_name in random.sample(file_names, 100):\n",
    "    shutil.copy(os.path.join(source_dir, file_name), target_dir)\n"
   ]
  },
  {
   "cell_type": "code",
   "execution_count": null,
   "id": "9cfd50bb",
   "metadata": {},
   "outputs": [],
   "source": []
  }
 ],
 "metadata": {
  "kernelspec": {
   "display_name": "Python 3 (ipykernel)",
   "language": "python",
   "name": "python3"
  },
  "language_info": {
   "codemirror_mode": {
    "name": "ipython",
    "version": 3
   },
   "file_extension": ".py",
   "mimetype": "text/x-python",
   "name": "python",
   "nbconvert_exporter": "python",
   "pygments_lexer": "ipython3",
   "version": "3.8.10"
  }
 },
 "nbformat": 4,
 "nbformat_minor": 5
}
